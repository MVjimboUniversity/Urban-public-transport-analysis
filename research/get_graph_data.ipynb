{
 "cells": [
  {
   "cell_type": "markdown",
   "id": "b229269a-b296-4009-91b2-0ab35ace1306",
   "metadata": {},
   "source": [
    "# Получение данных о графе: узлы и отношения"
   ]
  },
  {
   "cell_type": "markdown",
   "id": "d619459e-d91d-4a41-bdad-f521ee6137a0",
   "metadata": {},
   "source": [
    "**_Данный код всё ещё не позволяет полноценно работать с графом в проекте по анализу общественного транспорта. Возникают ошибки при добавлении графа в базу данных._**"
   ]
  },
  {
   "cell_type": "markdown",
   "id": "d764b36f-c12a-405d-9214-9f7e0c57e29f",
   "metadata": {},
   "source": [
    "В данном файле мы рассмотрим возможности получения информации об остановках в виде узлов и об отношениях в виде маршрутов автобусов. Предполагаем обработку области по имени города.\n",
    "\n",
    "Автор рекомендует использовать второй способ получения узлов, поскольку по его мнению записями в таком виде манипулировать проще. Тем не менее, описаны оба варианта\n",
    "\n",
    "Ниже приведены используемые библиотеки"
   ]
  },
  {
   "cell_type": "code",
   "execution_count": null,
   "id": "15a3e501-806b-4d8c-83d7-4238c8b7aa2c",
   "metadata": {
    "scrolled": true
   },
   "outputs": [],
   "source": [
    "!pip install osmnx\n",
    "!pip install pandas"
   ]
  },
  {
   "cell_type": "code",
   "execution_count": 1,
   "id": "0e201313-34ed-4d42-9419-f548dd73777e",
   "metadata": {},
   "outputs": [],
   "source": [
    "import osmnx as ox   #работа с OpenStreetMap\n",
    "import pandas as pd   #работа с датафреймами\n",
    "import networkx as nx   #работа с графами"
   ]
  },
  {
   "cell_type": "markdown",
   "id": "d96e2cc7-af36-41ab-a13e-8db4d38e5e7b",
   "metadata": {},
   "source": [
    "### Получение узлов с помощью features_from_place  _(не рекомендуется)_"
   ]
  },
  {
   "cell_type": "markdown",
   "id": "1bdd9e5e-0255-4b95-8767-9fdd3ef76182",
   "metadata": {},
   "source": [
    "Для получения информации об узлах используем функцию, возвращающую всю информацию о передаваемой области : **`features_from_place`**_`(query, tags, which_result=None)`_. Результатом её выполнения будет GeoDataFrame с информацией об узлах"
   ]
  },
  {
   "cell_type": "markdown",
   "id": "22d3f438-fd8c-45e0-9e4c-ec758b35a387",
   "metadata": {},
   "source": [
    "Далее воспользуемся самой функцией **`features_from_place`**. В качестве тега будем использовать параметр _`public_transport`_ и значение _`stop_position`_. "
   ]
  },
  {
   "cell_type": "code",
   "execution_count": null,
   "id": "a2f4a66e-336c-4d3b-a646-6805c36182de",
   "metadata": {},
   "outputs": [],
   "source": [
    "city = 'Санкт-Петербург'\n",
    "nodes = ox.features_from_place(city, tags={\"public_transport\": \"stop_position\"})\n",
    "#print(nodes)\n",
    "for idx, row in nodes.iterrows():\n",
    "    print(idx)"
   ]
  },
  {
   "cell_type": "markdown",
   "id": "c40000fa-1724-4d4a-bce6-b197a1d23398",
   "metadata": {},
   "source": [
    "Также есть возможность получать данные с помощью запроса к **`Overpass-API`**"
   ]
  },
  {
   "cell_type": "code",
   "execution_count": null,
   "id": "e8a2df75-138d-4369-989b-07325ba138b8",
   "metadata": {
    "scrolled": true
   },
   "outputs": [],
   "source": [
    "pd.set_option('display.max_columns', None)    #отображение всех столбцов\n",
    "print(nodes.columns)"
   ]
  },
  {
   "cell_type": "markdown",
   "id": "0ae53372-79d7-42d0-8615-c537decc4db2",
   "metadata": {},
   "source": [
    "Среди атрибутов полученного датафрейма можно отметить:\n",
    "- _bus_ : является ли остановка автобусной (yes/NaN). Дополнительно хранит osmid остановки\n",
    "- _name_ : название остановки\n",
    "- _trolleybus_ : является ли остановка троллейбусной\n",
    "- _geometry_ : координаты точки. Значение типа point, для обработки лучше перевести в отдельные поля\n",
    "- _tram_ : является ли остановка трамвайной\n",
    "- _subway_ : является ли остановка станцией метро"
   ]
  },
  {
   "cell_type": "markdown",
   "id": "0a8cce99-5261-4a56-bd4e-4eba45cc901c",
   "metadata": {},
   "source": [
    "Для добавления узла в граф у него должны быть поля _x, y, id_. Добавим их со значениями координат остановки и osmid"
   ]
  },
  {
   "cell_type": "code",
   "execution_count": 135,
   "id": "b914f696-3fc3-4c14-b699-dadd9a5972c3",
   "metadata": {},
   "outputs": [],
   "source": [
    "G = nx.MultiDiGraph()       #создаем пустой граф\n",
    "if \"crs\" not in G.graph:\n",
    "    G.graph[\"crs\"] = \"EPSG:4326\"    #задаем параметр для работы с координатами\n",
    "\n",
    "for idx, row in nodes.iterrows():\n",
    "    if not row['bus']=='yes': continue\n",
    "    stop_id = idx[1]\n",
    "    row[\"x\"] = row[\"geometry\"].x\n",
    "    row[\"y\"] = row[\"geometry\"].y\n",
    "    G.add_node(stop_id, **row.to_dict())"
   ]
  },
  {
   "cell_type": "code",
   "execution_count": 169,
   "id": "6d81d34d-47ee-4928-86d5-30e2f5868981",
   "metadata": {},
   "outputs": [
    {
     "name": "stdout",
     "output_type": "stream",
     "text": [
      "MultiDiGraph with 5319 nodes and 0 edges\n"
     ]
    }
   ],
   "source": [
    "print(G)"
   ]
  },
  {
   "cell_type": "markdown",
   "id": "dcbdba8c-84a0-4145-9f90-be8519ff71ea",
   "metadata": {},
   "source": [
    "Таким образом мы смогли получить граф, в который уже добавили все необходимые узлы"
   ]
  },
  {
   "cell_type": "markdown",
   "id": "3df7c727-9c69-4366-96c5-0a44dff10b13",
   "metadata": {},
   "source": [
    "### Получение узлов с помощью Overpass-API"
   ]
  },
  {
   "cell_type": "markdown",
   "id": "227881da-0f99-4202-84b1-ba8d42f280c0",
   "metadata": {},
   "source": [
    "В данном разделе мы будем получать данные об узлах через прямое обращение к Overpass-API. Такой подход позволяет проще управлять содержимым узлов, а также обладает большей гибкостью с точки зрения составления запроса"
   ]
  },
  {
   "cell_type": "code",
   "execution_count": 2,
   "id": "37a25718-4e30-42c1-9719-2bb3c4620943",
   "metadata": {},
   "outputs": [],
   "source": [
    "pd.set_option('display.max_columns', None)   #для отображения всех столбцов датафрейма \n",
    "\n",
    "nodes_overpass_query = \"\"\"\n",
    "[out:json];\n",
    "area[name=\"Санкт-Петербург\"]->.searchArea;\n",
    "node[\"public_transport\"=\"stop_position\"](area.searchArea)->.nodes;\n",
    "(\n",
    "  .nodes;\n",
    ");\n",
    "out body;\n",
    ">;\n",
    "out skel qt;\n",
    "\"\"\"\n",
    "nodes_response = ox._overpass._overpass_request(data={\"data\": nodes_overpass_query})"
   ]
  },
  {
   "cell_type": "markdown",
   "id": "74affbda-51d2-4eba-a19b-e8bc0d5ddebf",
   "metadata": {},
   "source": [
    "Получили все узлы, которым с флагом _stop_position_ (точка на дороге, где останавливается транспорт). Теперь переведём полученный json (уже представляет собой словарь) в датафрейм и добавим столбцы, необходимые для работы с GeoDataFrame (позднее граф будет переведен в этот тип)"
   ]
  },
  {
   "cell_type": "code",
   "execution_count": 3,
   "id": "d404cfcf-f4ef-4971-bb47-e817fb2b384f",
   "metadata": {
    "scrolled": true
   },
   "outputs": [],
   "source": [
    "nodes_df = pd.DataFrame.from_dict(nodes_response['elements'])\n",
    "\n",
    "nodes_list = []\n",
    "for row in nodes_response['elements']:\n",
    "    tmp_dict = row['tags']\n",
    "    tmp_dict['osmid']=row['id']\n",
    "    tmp_dict['x'] = row['lat']\n",
    "    tmp_dict['y'] = row['lon']\n",
    "    nodes_list.append(tmp_dict)\n",
    "\n",
    "\n",
    "nodes_df = pd.DataFrame.from_dict(nodes_list)"
   ]
  },
  {
   "cell_type": "markdown",
   "id": "10cc3566-2297-4ea6-a93c-7a5e5e2ed76c",
   "metadata": {},
   "source": [
    "Ранее мы получили весь общественный транспорт. Теперь добавим в граф только соответствующие автобусам"
   ]
  },
  {
   "cell_type": "code",
   "execution_count": 4,
   "id": "97c0c974-731e-4b52-a587-7d0e23a47f47",
   "metadata": {},
   "outputs": [],
   "source": [
    "G = nx.MultiDiGraph()       #создаем пустой граф\n",
    "if \"crs\" not in G.graph:\n",
    "    G.graph[\"crs\"] = \"EPSG:4326\"    #задаем параметр для работы с координатами\n",
    "\n",
    "for idx, row in nodes_df.iterrows():\n",
    "    if row['bus'] != 'yes': continue\n",
    "    G.add_node(row['osmid'], **row.to_dict())"
   ]
  },
  {
   "cell_type": "code",
   "execution_count": null,
   "id": "ce45266a-cd17-4837-9e06-fc4a95147f3a",
   "metadata": {
    "scrolled": true
   },
   "outputs": [],
   "source": [
    "print(G.nodes)   #список всех osmid узлов в графе"
   ]
  },
  {
   "cell_type": "markdown",
   "id": "fc080ce1-3ee8-427d-8563-31921fb66e31",
   "metadata": {},
   "source": [
    "### Получение рёбер"
   ]
  },
  {
   "cell_type": "markdown",
   "id": "3b32df73-f346-4ff5-9a98-00cc00280f78",
   "metadata": {},
   "source": [
    "Для получения рёбер мы воспользуемся прямым запросом к Overpass-API, с которым \"под капотом\" работает osmnx. Вероятно, удобнее будет использовать поиск не по области (area), а по полигону, однако это требует проверки"
   ]
  },
  {
   "cell_type": "code",
   "execution_count": 7,
   "id": "208ab362-0b7b-4429-be82-95f2c7572c21",
   "metadata": {},
   "outputs": [],
   "source": [
    "overpass_query = \"\"\"\n",
    "    [out:json];\n",
    "    area[name=\"Санкт-Петербург\"]->.searchArea;\n",
    "    relation[\"route\"=\"bus\"](area.searchArea)->.routes;\n",
    "    (\n",
    "      .routes;\n",
    "    );\n",
    "    out body;\n",
    "    >;\n",
    "    out skel qt;\n",
    "    \"\"\"\n",
    "routes = ox._overpass._overpass_request(data={\"data\": overpass_query})"
   ]
  },
  {
   "cell_type": "markdown",
   "id": "91242296-592b-46f7-becc-641587c0ae7c",
   "metadata": {},
   "source": [
    "С помощь этого запроса мы получаем словарь с описанием всех отношений, входящих в данную область. Отметим следующие поля:\n",
    "- _id_ : id отношения\n",
    "- _members_ : содержит список участников отношения (подробнее в следующей клетке)\n",
    "- _tags_ : содержит информацию об отношении (название, тип связей и прочую информацию)"
   ]
  },
  {
   "cell_type": "markdown",
   "id": "3c9a736f-4c02-4354-a42e-2c871bda8e25",
   "metadata": {},
   "source": [
    "Дополнительно разберем поле members, содержащее список участников отношения:\n",
    "- _node_ : содержит информацию об узлах (_ref_ содержит osmid узла, _role_ содержит роль узла (например, обычная остановка или конечная)\n",
    "- _way_ : содержит osmid линий на карте OSM, из которых состоит маршрут транспорта"
   ]
  },
  {
   "cell_type": "markdown",
   "id": "1431a62e-f6f7-4d89-9248-9fe5aa590ffc",
   "metadata": {},
   "source": [
    "Преобразуем этот словарь в датафрейм:"
   ]
  },
  {
   "cell_type": "code",
   "execution_count": 8,
   "id": "6bef6ed7-a0c8-467c-a76e-ff5b411ffbd9",
   "metadata": {},
   "outputs": [],
   "source": [
    "relations = pd.DataFrame(columns=['relation_id', 'relation_members', 'relation_ways'])\n",
    "\n",
    "for element in routes[\"elements\"]:\n",
    "    if element['type'] == 'relation':\n",
    "        node_list = []\n",
    "        way_list = []\n",
    "        \n",
    "        for member in element['members']:\n",
    "            if (member['type'] == 'node'): node_list.append(member['ref'])\n",
    "            elif (member['type'] == 'way'): way_list.append(member['ref'])\n",
    "                \n",
    "        relations.loc[len(relations)] = [element['id'], node_list, way_list]"
   ]
  },
  {
   "cell_type": "markdown",
   "id": "4846e3f9-fda6-490e-aec7-406cf10c7b20",
   "metadata": {},
   "source": [
    "Отметим две вещи важные вещи:\n",
    "- Отношения однонаправленные. Один маршрут представляется двумя отношениями в разные стороны\n",
    "- Остановки указаны в порядке следования маршрута (требует проверки)"
   ]
  },
  {
   "cell_type": "markdown",
   "id": "8a14e4e4-c7e8-41d8-84e5-8ee4996b2695",
   "metadata": {},
   "source": [
    "### Добавление рёбер между вершинами"
   ]
  },
  {
   "cell_type": "markdown",
   "id": "afa16d00-6ef8-4d02-b260-3f20eb45a895",
   "metadata": {},
   "source": [
    "**_Преполагается, что использовался второй вариант получения списка вершин. Если использовался первый способ, то нужно будет внести изменения в следующий код, однако принцип не изменится_**"
   ]
  },
  {
   "cell_type": "markdown",
   "id": "ec0cc330-f4c2-4e1c-9d9c-297b3b60af7a",
   "metadata": {},
   "source": [
    "Осталось только добавить рёбра в граф. Однако по некоторой причине в списке рёбер есть вершины, которые не встречались в списке вершин. Их добавление недопустимо, поскольку они не содержат необходимых полей. Поэтому добавляем только ребра между уже добавленными вершинами (если какой-то вершины, которую связывает ребро, не окажется в графе, то она будет добавлена автоматически и будет представлять собой только _id_, что недопустимо)"
   ]
  },
  {
   "cell_type": "code",
   "execution_count": 9,
   "id": "36bc628a-b927-4b18-8397-9860f9ac4331",
   "metadata": {},
   "outputs": [
    {
     "name": "stdout",
     "output_type": "stream",
     "text": [
      "MultiDiGraph with 5319 nodes and 21040 edges\n"
     ]
    }
   ],
   "source": [
    "graph_nodes = G.nodes\n",
    "\n",
    "\n",
    "for idx, members in relations.iterrows():\n",
    "\n",
    "    members = members['relation_members']\n",
    "    \n",
    "    l = -1\n",
    "    for i in range(len(members)):\n",
    "        if members[i] in graph_nodes:\n",
    "            l = i\n",
    "            break\n",
    "    if l == -1: \n",
    "        continue\n",
    "    \n",
    "    r = l + 1\n",
    "    while r < len(members):\n",
    "        if members[r] in graph_nodes:\n",
    "            G.add_edge(members[l], members[r])\n",
    "            l = r\n",
    "        r += 1\n",
    "print(G)"
   ]
  },
  {
   "cell_type": "markdown",
   "id": "1d9c260d-1f2e-4c78-868b-3bec3f4a9024",
   "metadata": {},
   "source": [
    "Поскольку далее в коде проекта происходит преобразование графа в типы GeoDataFrame, необходимо проверить возможность преобразования с помощью следующего кода. Если он выполняется, то "
   ]
  },
  {
   "cell_type": "code",
   "execution_count": null,
   "id": "afbbc0c9-3cd5-4b4a-9dfe-0250a5c44f46",
   "metadata": {},
   "outputs": [],
   "source": [
    "gdf_nodes, gdf_relationships = ox.graph_to_gdfs(G)\n",
    "print(gdf_relationships)"
   ]
  }
 ],
 "metadata": {
  "kernelspec": {
   "display_name": "Python 3 (ipykernel)",
   "language": "python",
   "name": "python3"
  },
  "language_info": {
   "codemirror_mode": {
    "name": "ipython",
    "version": 3
   },
   "file_extension": ".py",
   "mimetype": "text/x-python",
   "name": "python",
   "nbconvert_exporter": "python",
   "pygments_lexer": "ipython3",
   "version": "3.12.3"
  }
 },
 "nbformat": 4,
 "nbformat_minor": 5
}
